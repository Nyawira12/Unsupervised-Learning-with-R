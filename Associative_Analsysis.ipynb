{
  "nbformat": 4,
  "nbformat_minor": 0,
  "metadata": {
    "colab": {
      "name": "Associative Analsysis",
      "provenance": [],
      "toc_visible": true,
      "include_colab_link": true
    },
    "kernelspec": {
      "name": "ir",
      "display_name": "R"
    }
  },
  "cells": [
    {
      "cell_type": "markdown",
      "metadata": {
        "id": "view-in-github",
        "colab_type": "text"
      },
      "source": [
        "<a href=\"https://colab.research.google.com/github/Nyawira12/Unsupervised-Learning-with-R/blob/main/Associative_Analsysis.ipynb\" target=\"_parent\"><img src=\"https://colab.research.google.com/assets/colab-badge.svg\" alt=\"Open In Colab\"/></a>"
      ]
    },
    {
      "cell_type": "markdown",
      "metadata": {
        "id": "V8N4rhAuuDh1"
      },
      "source": [
        "# 1. Business Understanding \n",
        "\n",
        "You are a Data analyst at Carrefour Kenya and are currently undertaking a project that will inform the marketing department on the most relevant marketing strategies that will result in the highest no. of sales (total price including tax). Your project has been divided into four parts where you'll explore a recent marketing dataset by performing various unsupervised learning techniques and later providing recommendations based on your insights."
      ]
    },
    {
      "cell_type": "markdown",
      "metadata": {
        "id": "xpz9wmNSuFnn"
      },
      "source": [
        "# 2. Success Metrics\n",
        "\n",
        "- Identify relationships between variables. \n"
      ]
    },
    {
      "cell_type": "markdown",
      "metadata": {
        "id": "sebk1LAnv1yb"
      },
      "source": [
        "# 3. Understanding the Context\n",
        "\n",
        "The retail space is in Kenya highly competitive, survival strategies depends  on the enity's ability to retain and grow its market shares. This makes an analysis of relevant marketing strategies a possible source of competitive advantage. This section will focus on association analysis. "
      ]
    },
    {
      "cell_type": "markdown",
      "metadata": {
        "id": "HQT-pxmjuZzz"
      },
      "source": [
        "# 4. Expermental Design\n",
        "\n",
        "1. Import Libraries & Read Data\n",
        "2. EDA\n",
        "3. Implementing the Solution\n",
        "4. Conclusion"
      ]
    },
    {
      "cell_type": "markdown",
      "metadata": {
        "id": "17kuyQOnu0Ck"
      },
      "source": [
        "# 5. Reading the data and importing the required libraries."
      ]
    },
    {
      "cell_type": "code",
      "metadata": {
        "id": "YwrOs1YmIgRF",
        "outputId": "29a7adec-c5cf-4260-c2df-3760551db567",
        "colab": {
          "base_uri": "https://localhost:8080/"
        }
      },
      "source": [
        "# We first we install the required arules library \n",
        "install.packages(\"arules\")"
      ],
      "execution_count": 1,
      "outputs": [
        {
          "output_type": "stream",
          "text": [
            "Installing package into ‘/usr/local/lib/R/site-library’\n",
            "(as ‘lib’ is unspecified)\n",
            "\n"
          ],
          "name": "stderr"
        }
      ]
    },
    {
      "cell_type": "code",
      "metadata": {
        "id": "vzYaejk1u8Bb",
        "outputId": "5c6bfa93-627f-4123-99df-5ac31d0b9c7a",
        "colab": {
          "base_uri": "https://localhost:8080/"
        }
      },
      "source": [
        "# load arules library\n",
        "library(arules)\n",
        "# load the data \n",
        "url = \"/content/Supermarket_Sales_Dataset II.csv\"\n",
        "Df2 <- read.transactions(url)"
      ],
      "execution_count": 11,
      "outputs": [
        {
          "output_type": "stream",
          "text": [
            "Warning message in asMethod(object):\n",
            "“removing duplicated items in transactions”\n"
          ],
          "name": "stderr"
        }
      ]
    },
    {
      "cell_type": "markdown",
      "metadata": {
        "id": "iWz1pIJ-94h9"
      },
      "source": [
        "## 2. Check the data."
      ]
    },
    {
      "cell_type": "code",
      "metadata": {
        "id": "aBfZjByrXulE",
        "outputId": "7e788eb3-ee5b-4fc2-85ad-31c7d8d495b9",
        "colab": {
          "base_uri": "https://localhost:8080/",
          "height": 68
        }
      },
      "source": [
        "head(Df2)"
      ],
      "execution_count": 17,
      "outputs": [
        {
          "output_type": "display_data",
          "data": {
            "text/plain": [
              "transactions in sparse format with\n",
              " 6 transactions (rows) and\n",
              " 5729 items (columns)"
            ]
          },
          "metadata": {
            "tags": []
          }
        }
      ]
    },
    {
      "cell_type": "code",
      "metadata": {
        "id": "bFDhmYtLBAFC",
        "outputId": "91047914-6618-439c-84e7-a88c940153cd",
        "colab": {
          "base_uri": "https://localhost:8080/"
        }
      },
      "source": [
        "# previewing our first 5 transactions\n",
        "inspect(Df2[1:5])"
      ],
      "execution_count": 12,
      "outputs": [
        {
          "output_type": "stream",
          "text": [
            "    items                              \n",
            "[1] {cheese,energy,                    \n",
            "     drink,tomato,                     \n",
            "     fat,                              \n",
            "     flour,yams,cottage,               \n",
            "     grapes,whole,                     \n",
            "     juice,frozen,                     \n",
            "     juice,low,                        \n",
            "     mix,green,                        \n",
            "     oil,                              \n",
            "     shrimp,almonds,avocado,vegetables,\n",
            "     smoothie,spinach,olive,           \n",
            "     tea,honey,salad,mineral,          \n",
            "     water,salmon,antioxydant,         \n",
            "     weat,                             \n",
            "     yogurt,green}                     \n",
            "[2] {burgers,meatballs,eggs}           \n",
            "[3] {chutney}                          \n",
            "[4] {turkey,avocado}                   \n",
            "[5] {bar,whole,                        \n",
            "     mineral,                          \n",
            "     rice,green,                       \n",
            "     tea,                              \n",
            "     water,milk,energy,                \n",
            "     wheat}                            \n"
          ],
          "name": "stdout"
        }
      ]
    },
    {
      "cell_type": "code",
      "metadata": {
        "id": "tJM1vADZ95w7",
        "outputId": "9dd85dcf-1927-4c6f-d032-925b2eb457e6",
        "colab": {
          "base_uri": "https://localhost:8080/",
          "height": 34
        }
      },
      "source": [
        "# check type of data set\n",
        "class(Df2)"
      ],
      "execution_count": 13,
      "outputs": [
        {
          "output_type": "display_data",
          "data": {
            "text/plain": [
              "[1] \"transactions\"\n",
              "attr(,\"package\")\n",
              "[1] \"arules\""
            ],
            "text/latex": "'transactions'",
            "text/markdown": "'transactions'",
            "text/html": [
              "'transactions'"
            ]
          },
          "metadata": {
            "tags": []
          }
        }
      ]
    },
    {
      "cell_type": "code",
      "metadata": {
        "id": "RJ-hsgWpCKDF",
        "outputId": "58725e3a-e2cf-467e-8336-62bd7cd96593",
        "colab": {
          "base_uri": "https://localhost:8080/"
        }
      },
      "source": [
        "# find the column data types \n",
        "str(Df2)"
      ],
      "execution_count": 14,
      "outputs": [
        {
          "output_type": "stream",
          "text": [
            "Formal class 'transactions' [package \"arules\"] with 3 slots\n",
            "  ..@ data       :Formal class 'ngCMatrix' [package \"Matrix\"] with 5 slots\n",
            "  .. .. ..@ i       : int [1:23299] 1087 1614 1705 1732 1993 2101 2105 2358 2444 3463 ...\n",
            "  .. .. ..@ p       : int [1:7502] 0 15 16 17 18 24 27 31 33 36 ...\n",
            "  .. .. ..@ Dim     : int [1:2] 5729 7501\n",
            "  .. .. ..@ Dimnames:List of 2\n",
            "  .. .. .. ..$ : NULL\n",
            "  .. .. .. ..$ : NULL\n",
            "  .. .. ..@ factors : list()\n",
            "  ..@ itemInfo   :'data.frame':\t5729 obs. of  1 variable:\n",
            "  .. ..$ labels: chr [1:5729] \"&\" \"accessories\" \"accessories,antioxydant\" \"accessories,champagne,fresh\" ...\n",
            "  ..@ itemsetInfo:'data.frame':\t0 obs. of  0 variables\n"
          ],
          "name": "stdout"
        }
      ]
    },
    {
      "cell_type": "markdown",
      "metadata": {
        "id": "W5JDcmqkEXeJ"
      },
      "source": [
        "Most of the columns are numeric with 4 of them being non numeric."
      ]
    },
    {
      "cell_type": "code",
      "metadata": {
        "id": "xu6iQTGYDlNS",
        "outputId": "9047bbf9-41d7-4b8f-9ffc-f64febbfdd4a",
        "colab": {
          "base_uri": "https://localhost:8080/",
          "height": 34
        }
      },
      "source": [
        "# find out how many rows and columns are present in the data set\n",
        "dim(df)"
      ],
      "execution_count": 6,
      "outputs": [
        {
          "output_type": "display_data",
          "data": {
            "text/plain": [
              "[1] 7501 5729"
            ],
            "text/latex": "\\begin{enumerate*}\n\\item 7501\n\\item 5729\n\\end{enumerate*}\n",
            "text/markdown": "1. 7501\n2. 5729\n\n\n",
            "text/html": [
              "<style>\n",
              ".list-inline {list-style: none; margin:0; padding: 0}\n",
              ".list-inline>li {display: inline-block}\n",
              ".list-inline>li:not(:last-child)::after {content: \"\\00b7\"; padding: 0 .5ex}\n",
              "</style>\n",
              "<ol class=list-inline><li>7501</li><li>5729</li></ol>\n"
            ]
          },
          "metadata": {
            "tags": []
          }
        }
      ]
    },
    {
      "cell_type": "code",
      "metadata": {
        "id": "m4IJiMADXRa0"
      },
      "source": [
        "#checking for missing values\n",
        "colSums(is.na(Df2))"
      ],
      "execution_count": null,
      "outputs": []
    },
    {
      "cell_type": "code",
      "metadata": {
        "id": "s9l6xxppXRkf"
      },
      "source": [
        "# Drop olive oil column from dataframe\n",
        "Df2$olive.oil <- NULL"
      ],
      "execution_count": null,
      "outputs": []
    },
    {
      "cell_type": "code",
      "metadata": {
        "id": "q4hIambuXaPP"
      },
      "source": [
        "#checking for duplicated values\n",
        "anyDuplicated(Df2)"
      ],
      "execution_count": null,
      "outputs": []
    },
    {
      "cell_type": "markdown",
      "metadata": {
        "id": "Di-t9gUpvQse"
      },
      "source": [
        "## 3. Exploratory Data Analysis (EDA)."
      ]
    },
    {
      "cell_type": "code",
      "metadata": {
        "id": "u0hkf4w0vUz_",
        "outputId": "d1d6d81e-3fbe-4064-807e-198d508b4607",
        "colab": {
          "base_uri": "https://localhost:8080/",
          "height": 437
        }
      },
      "source": [
        "itemFrequencyPlot(\n",
        "    Df2,\n",
        "    topN=4, # Show top 4 items\n",
        "    type=\"absolute\", # absolute frequency instead of relative\n",
        "    main=\"Most popular items sold (absolute frequency)\"\n",
        ")"
      ],
      "execution_count": 15,
      "outputs": [
        {
          "output_type": "display_data",
          "data": {
            "image/png": "[encoded data removed]",
            "text/plain": [
              "Plot with title “Most popular items sold (absolute frequency)”"
            ]
          },
          "metadata": {
            "tags": [],
            "image/png": {
              "width": 420,
              "height": 420
            }
          }
        }
      ]
    },
    {
      "cell_type": "code",
      "metadata": {
        "id": "PyzvL_P2XK6P",
        "outputId": "9deb2345-241a-4f35-884b-677c26602a32",
        "colab": {
          "base_uri": "https://localhost:8080/",
          "height": 437
        }
      },
      "source": [
        "## Create an item frequency plot for the top 20 items\n",
        "# coerce data frame into transaction. Plotting the dataframe directly fails\n",
        "trans <- as(Df2, \"transactions\")\n",
        "# plot item frequency\n",
        "itemFrequencyPlot(trans,topN=20,type=\"absolute\")"
      ],
      "execution_count": 16,
      "outputs": [
        {
          "output_type": "display_data",
          "data": {
            "image/png": "[encoded data removed]",
            "text/plain": [
              "plot without title"
            ]
          },
          "metadata": {
            "tags": [],
            "image/png": {
              "width": 420,
              "height": 420
            }
          }
        }
      ]
    },
    {
      "cell_type": "markdown",
      "metadata": {
        "id": "ACehq3XBX9NY"
      },
      "source": [
        "We can see that tea, wheat, mineral, fat and yoghurt are the top 5 items in terms of frequency while the least is cake and beef minerals. \n"
      ]
    },
    {
      "cell_type": "markdown",
      "metadata": {
        "id": "XbVG4hp8vVE9"
      },
      "source": [
        "## 4. Implementing the solution."
      ]
    },
    {
      "cell_type": "code",
      "metadata": {
        "id": "2pNHKUhWvZOa",
        "outputId": "11cb48d5-c816-4607-b0b0-a708b6ffee4b",
        "colab": {
          "base_uri": "https://localhost:8080/",
          "height": 850
        }
      },
      "source": [
        "# run apriori function to get the rules\n",
        "association.rules <- apriori(\n",
        "    Df2, \n",
        "    parameter = list(\n",
        "        supp = 0.005, # Minimum support level, frequency of items\n",
        "        conf = 0.8 # Minimum confidence level\n",
        "    )\n",
        ")\n",
        "\n",
        "association.rules <- sort(association.rules, by = 'support', decreasing = TRUE)\n",
        "summary(association.rules)"
      ],
      "execution_count": 18,
      "outputs": [
        {
          "output_type": "stream",
          "text": [
            "Apriori\n",
            "\n",
            "Parameter specification:\n",
            " confidence minval smax arem  aval originalSupport maxtime support minlen\n",
            "        0.8    0.1    1 none FALSE            TRUE       5   0.005      1\n",
            " maxlen target  ext\n",
            "     10  rules TRUE\n",
            "\n",
            "Algorithmic control:\n",
            " filter tree heap memopt load sort verbose\n",
            "    0.1 TRUE TRUE  FALSE TRUE    2    TRUE\n",
            "\n",
            "Absolute minimum support count: 37 \n",
            "\n",
            "set item appearances ...[0 item(s)] done [0.00s].\n",
            "set transactions ...[5729 item(s), 7501 transaction(s)] done [0.01s].\n",
            "sorting and recoding items ... [73 item(s)] done [0.00s].\n",
            "creating transaction tree ... done [0.00s].\n",
            "checking subsets of size 1 2 3 done [0.00s].\n",
            "writing ... [21 rule(s)] done [0.00s].\n",
            "creating S4 object  ... done [0.00s].\n"
          ],
          "name": "stdout"
        },
        {
          "output_type": "display_data",
          "data": {
            "text/plain": [
              "set of 21 rules\n",
              "\n",
              "rule length distribution (lhs + rhs):sizes\n",
              " 2  3 \n",
              "12  9 \n",
              "\n",
              "   Min. 1st Qu.  Median    Mean 3rd Qu.    Max. \n",
              "  2.000   2.000   2.000   2.429   3.000   3.000 \n",
              "\n",
              "summary of quality measures:\n",
              "    support           confidence        coverage             lift       \n",
              " Min.   :0.005066   Min.   :0.8125   Min.   :0.005066   Min.   : 9.341  \n",
              " 1st Qu.:0.005999   1st Qu.:0.9583   1st Qu.:0.005999   1st Qu.:12.244  \n",
              " Median :0.006799   Median :1.0000   Median :0.006799   Median :13.068  \n",
              " Mean   :0.014366   Mean   :0.9698   Mean   :0.015154   Mean   :13.855  \n",
              " 3rd Qu.:0.009065   3rd Qu.:1.0000   3rd Qu.:0.009065   3rd Qu.:13.514  \n",
              " Max.   :0.068391   Max.   :1.0000   Max.   :0.076523   Max.   :20.218  \n",
              "     count      \n",
              " Min.   : 38.0  \n",
              " 1st Qu.: 45.0  \n",
              " Median : 51.0  \n",
              " Mean   :107.8  \n",
              " 3rd Qu.: 68.0  \n",
              " Max.   :513.0  \n",
              "\n",
              "mining info:\n",
              " data ntransactions support confidence\n",
              "  Df2          7501   0.005        0.8"
            ]
          },
          "metadata": {
            "tags": []
          }
        }
      ]
    },
    {
      "cell_type": "code",
      "metadata": {
        "id": "I2sWLyqOMOBV",
        "outputId": "1e0af773-98a5-4a80-f985-f8ecbf57edc7",
        "colab": {
          "base_uri": "https://localhost:8080/"
        }
      },
      "source": [
        "# preview the rules\n",
        "inspect(head(association.rules))"
      ],
      "execution_count": 20,
      "outputs": [
        {
          "output_type": "stream",
          "text": [
            "    lhs                rhs      support     confidence coverage    lift    \n",
            "[1] {yogurt}        => {fat}    0.068390881 0.9447514  0.072390348 12.34596\n",
            "[2] {fat}           => {yogurt} 0.068390881 0.8937282  0.076523130 12.34596\n",
            "[3] {herb}          => {&}      0.030929209 1.0000000  0.030929209 20.21833\n",
            "[4] {whole}         => {wheat}  0.018930809 0.9466667  0.019997334 11.00922\n",
            "[5] {rice}          => {wheat}  0.012265031 0.9583333  0.012798294 11.14490\n",
            "[6] {pepper,ground} => {&}      0.009065458 1.0000000  0.009065458 20.21833\n",
            "    count\n",
            "[1] 513  \n",
            "[2] 513  \n",
            "[3] 232  \n",
            "[4] 142  \n",
            "[5]  92  \n",
            "[6]  68  \n"
          ],
          "name": "stdout"
        }
      ]
    },
    {
      "cell_type": "code",
      "metadata": {
        "id": "1Z4KZKiiYu3t",
        "outputId": "fd849c56-93ec-4e65-d5c6-f5b7bce52008",
        "colab": {
          "base_uri": "https://localhost:8080/"
        }
      },
      "source": [
        "# order rules by confidence\n",
        "rules<-sort(association.rules, by=\"confidence\", decreasing=TRUE)\n",
        "inspect(rules[1:5])"
      ],
      "execution_count": 21,
      "outputs": [
        {
          "output_type": "stream",
          "text": [
            "    lhs                 rhs   support     confidence coverage    lift     count\n",
            "[1] {herb}           => {&}   0.030929209 1          0.030929209 20.21833 232  \n",
            "[2] {pepper,ground}  => {&}   0.009065458 1          0.009065458 20.21833  68  \n",
            "[3] {mineral,yogurt} => {fat} 0.007732302 1          0.007732302 13.06794  58  \n",
            "[4] {wheat,yogurt}   => {fat} 0.006932409 1          0.006932409 13.06794  52  \n",
            "[5] {fries,green}    => {tea} 0.006799093 1          0.006799093  9.34122  51  \n"
          ],
          "name": "stdout"
        }
      ]
    },
    {
      "cell_type": "code",
      "metadata": {
        "id": "cQiu-fcVYvBa",
        "outputId": "b18d9842-08bb-49be-81bd-142362c9e1b3",
        "colab": {
          "base_uri": "https://localhost:8080/"
        }
      },
      "source": [
        "\n",
        "# order rules by support\n",
        "rules<-sort(association.rules, by=\"support\", decreasing=TRUE)\n",
        "inspect(rules[1:5])"
      ],
      "execution_count": 23,
      "outputs": [
        {
          "output_type": "stream",
          "text": [
            "    lhs         rhs      support    confidence coverage   lift     count\n",
            "[1] {yogurt} => {fat}    0.06839088 0.9447514  0.07239035 12.34596 513  \n",
            "[2] {fat}    => {yogurt} 0.06839088 0.8937282  0.07652313 12.34596 513  \n",
            "[3] {herb}   => {&}      0.03092921 1.0000000  0.03092921 20.21833 232  \n",
            "[4] {whole}  => {wheat}  0.01893081 0.9466667  0.01999733 11.00922 142  \n",
            "[5] {rice}   => {wheat}  0.01226503 0.9583333  0.01279829 11.14490  92  \n"
          ],
          "name": "stdout"
        }
      ]
    },
    {
      "cell_type": "code",
      "metadata": {
        "id": "8as24ZSKZFBZ",
        "outputId": "4c2b81a2-e292-41a2-dc1d-4a40c960659f",
        "colab": {
          "base_uri": "https://localhost:8080/",
          "height": 391
        }
      },
      "source": [
        "# Set confidence as 0.9\n",
        "rules1 <- apriori (Df2, parameter = list(supp = 0.001, conf = 0.9))\n",
        "rules1"
      ],
      "execution_count": 24,
      "outputs": [
        {
          "output_type": "stream",
          "text": [
            "Apriori\n",
            "\n",
            "Parameter specification:\n",
            " confidence minval smax arem  aval originalSupport maxtime support minlen\n",
            "        0.9    0.1    1 none FALSE            TRUE       5   0.001      1\n",
            " maxlen target  ext\n",
            "     10  rules TRUE\n",
            "\n",
            "Algorithmic control:\n",
            " filter tree heap memopt load sort verbose\n",
            "    0.1 TRUE TRUE  FALSE TRUE    2    TRUE\n",
            "\n",
            "Absolute minimum support count: 7 \n",
            "\n",
            "set item appearances ...[0 item(s)] done [0.00s].\n",
            "set transactions ...[5729 item(s), 7501 transaction(s)] done [0.01s].\n",
            "sorting and recoding items ... [354 item(s)] done [0.00s].\n",
            "creating transaction tree ... done [0.00s].\n",
            "checking subsets of size 1 2 3 4 done [0.00s].\n",
            "writing ... [224 rule(s)] done [0.00s].\n",
            "creating S4 object  ... done [0.00s].\n"
          ],
          "name": "stdout"
        },
        {
          "output_type": "display_data",
          "data": {
            "text/plain": [
              "set of 224 rules "
            ]
          },
          "metadata": {
            "tags": []
          }
        }
      ]
    },
    {
      "cell_type": "code",
      "metadata": {
        "id": "xo0gZ12ZZNYd",
        "outputId": "afa78c85-c653-410e-9224-7c635b345af0",
        "colab": {
          "base_uri": "https://localhost:8080/",
          "height": 493
        }
      },
      "source": [
        "\n",
        "# summary rules\n",
        "summary(rules1)"
      ],
      "execution_count": 25,
      "outputs": [
        {
          "output_type": "display_data",
          "data": {
            "text/plain": [
              "set of 224 rules\n",
              "\n",
              "rule length distribution (lhs + rhs):sizes\n",
              "  2   3   4 \n",
              " 88 121  15 \n",
              "\n",
              "   Min. 1st Qu.  Median    Mean 3rd Qu.    Max. \n",
              "  2.000   2.000   3.000   2.674   3.000   4.000 \n",
              "\n",
              "summary of quality measures:\n",
              "    support           confidence        coverage             lift        \n",
              " Min.   :0.001067   Min.   :0.9000   Min.   :0.001067   Min.   :  8.492  \n",
              " 1st Qu.:0.001200   1st Qu.:1.0000   1st Qu.:0.001200   1st Qu.: 11.630  \n",
              " Median :0.001466   Median :1.0000   Median :0.001466   Median : 13.068  \n",
              " Mean   :0.002696   Mean   :0.9875   Mean   :0.002749   Mean   : 23.040  \n",
              " 3rd Qu.:0.002566   3rd Qu.:1.0000   3rd Qu.:0.002566   3rd Qu.: 20.218  \n",
              " Max.   :0.068391   Max.   :1.0000   Max.   :0.072390   Max.   :613.718  \n",
              "     count       \n",
              " Min.   :  8.00  \n",
              " 1st Qu.:  9.00  \n",
              " Median : 11.00  \n",
              " Mean   : 20.22  \n",
              " 3rd Qu.: 19.25  \n",
              " Max.   :513.00  \n",
              "\n",
              "mining info:\n",
              " data ntransactions support confidence\n",
              "  Df2          7501   0.001        0.9"
            ]
          },
          "metadata": {
            "tags": []
          }
        }
      ]
    },
    {
      "cell_type": "code",
      "metadata": {
        "id": "3l5C_DS2ZTz2",
        "outputId": "45bd89c5-10cb-46a7-8e34-e9a29984881a",
        "colab": {
          "base_uri": "https://localhost:8080/"
        }
      },
      "source": [
        "#check model rules\n",
        "inspect(rules1[1:5])"
      ],
      "execution_count": 27,
      "outputs": [
        {
          "output_type": "stream",
          "text": [
            "    lhs                                rhs      support     confidence\n",
            "[1] {cookies,low}                   => {yogurt} 0.001066524 1         \n",
            "[2] {cookies,low}                   => {fat}    0.001066524 1         \n",
            "[3] {extra}                         => {dark}   0.001066524 1         \n",
            "[4] {burgers,whole}                 => {wheat}  0.001199840 1         \n",
            "[5] {fries,escalope,pasta,mushroom} => {cream}  0.001066524 1         \n",
            "    coverage    lift     count\n",
            "[1] 0.001066524 13.81400 8    \n",
            "[2] 0.001066524 13.06794 8    \n",
            "[3] 0.001066524 83.34444 8    \n",
            "[4] 0.001199840 11.62946 9    \n",
            "[5] 0.001066524 47.77707 8    \n"
          ],
          "name": "stdout"
        }
      ]
    },
    {
      "cell_type": "code",
      "metadata": {
        "id": "g3cCNGwWZYFd",
        "outputId": "12ce18d9-0af6-43bf-e621-9416bc1e9a0d",
        "colab": {
          "base_uri": "https://localhost:8080/"
        }
      },
      "source": [
        "# sort rules by confidence interval\n",
        "rules1<-sort(rules1, by=\"confidence\", decreasing=TRUE)\n",
        "inspect(rules1[1:5])"
      ],
      "execution_count": 28,
      "outputs": [
        {
          "output_type": "stream",
          "text": [
            "    lhs                                rhs      support     confidence\n",
            "[1] {cookies,low}                   => {yogurt} 0.001066524 1         \n",
            "[2] {cookies,low}                   => {fat}    0.001066524 1         \n",
            "[3] {extra}                         => {dark}   0.001066524 1         \n",
            "[4] {burgers,whole}                 => {wheat}  0.001199840 1         \n",
            "[5] {fries,escalope,pasta,mushroom} => {cream}  0.001066524 1         \n",
            "    coverage    lift     count\n",
            "[1] 0.001066524 13.81400 8    \n",
            "[2] 0.001066524 13.06794 8    \n",
            "[3] 0.001066524 83.34444 8    \n",
            "[4] 0.001199840 11.62946 9    \n",
            "[5] 0.001066524 47.77707 8    \n"
          ],
          "name": "stdout"
        }
      ]
    },
    {
      "cell_type": "code",
      "metadata": {
        "id": "-nhAolY9ZaWi",
        "outputId": "8385f503-6b3b-4ed7-94b9-a1dc6d9985b4",
        "colab": {
          "base_uri": "https://localhost:8080/"
        }
      },
      "source": [
        "# order rules by support\n",
        "rules1<-sort(rules1, by=\"support\", decreasing=TRUE)\n",
        "inspect(rules1[1:5])\n"
      ],
      "execution_count": 29,
      "outputs": [
        {
          "output_type": "stream",
          "text": [
            "    lhs                rhs     support     confidence coverage    lift    \n",
            "[1] {yogurt}        => {fat}   0.068390881 0.9447514  0.072390348 12.34596\n",
            "[2] {herb}          => {&}     0.030929209 1.0000000  0.030929209 20.21833\n",
            "[3] {whole}         => {wheat} 0.018930809 0.9466667  0.019997334 11.00922\n",
            "[4] {rice}          => {wheat} 0.012265031 0.9583333  0.012798294 11.14490\n",
            "[5] {pepper,ground} => {&}     0.009065458 1.0000000  0.009065458 20.21833\n",
            "    count\n",
            "[1] 513  \n",
            "[2] 232  \n",
            "[3] 142  \n",
            "[4]  92  \n",
            "[5]  68  \n"
          ],
          "name": "stdout"
        }
      ]
    },
    {
      "cell_type": "code",
      "metadata": {
        "id": "osSOdCgFZ1bq",
        "outputId": "83bd1b11-7976-4add-d952-fd34e4dd9f2a",
        "colab": {
          "base_uri": "https://localhost:8080/"
        }
      },
      "source": [
        "inspect(rules[1:20])"
      ],
      "execution_count": 30,
      "outputs": [
        {
          "output_type": "stream",
          "text": [
            "     lhs                     rhs      support     confidence coverage   \n",
            "[1]  {yogurt}             => {fat}    0.068390881 0.9447514  0.072390348\n",
            "[2]  {fat}                => {yogurt} 0.068390881 0.8937282  0.076523130\n",
            "[3]  {herb}               => {&}      0.030929209 1.0000000  0.030929209\n",
            "[4]  {whole}              => {wheat}  0.018930809 0.9466667  0.019997334\n",
            "[5]  {rice}               => {wheat}  0.012265031 0.9583333  0.012798294\n",
            "[6]  {pepper,ground}      => {&}      0.009065458 1.0000000  0.009065458\n",
            "[7]  {mineral,yogurt}     => {fat}    0.007732302 1.0000000  0.007732302\n",
            "[8]  {fat,mineral}        => {yogurt} 0.007732302 0.9666667  0.007998933\n",
            "[9]  {wheat,yogurt}       => {fat}    0.006932409 1.0000000  0.006932409\n",
            "[10] {fat,wheat}          => {yogurt} 0.006932409 0.8125000  0.008532196\n",
            "[11] {fries,green}        => {tea}    0.006799093 1.0000000  0.006799093\n",
            "[12] {cheese,herb}        => {&}      0.006532462 1.0000000  0.006532462\n",
            "[13] {low}                => {fat}    0.006132516 1.0000000  0.006132516\n",
            "[14] {low}                => {yogurt} 0.005999200 0.9782609  0.006132516\n",
            "[15] {low,yogurt}         => {fat}    0.005999200 1.0000000  0.005999200\n",
            "[16] {fat,low}            => {yogurt} 0.005999200 0.9782609  0.006132516\n",
            "[17] {herb,pepper,ground} => {&}      0.005865885 1.0000000  0.005865885\n",
            "[18] {water,whole}        => {wheat}  0.005599253 1.0000000  0.005599253\n",
            "[19] {&,yogurt}           => {fat}    0.005199307 1.0000000  0.005199307\n",
            "[20] {&,fat}              => {yogurt} 0.005199307 0.8863636  0.005865885\n",
            "     lift     count\n",
            "[1]  12.34596 513  \n",
            "[2]  12.34596 513  \n",
            "[3]  20.21833 232  \n",
            "[4]  11.00922 142  \n",
            "[5]  11.14490  92  \n",
            "[6]  20.21833  68  \n",
            "[7]  13.06794  58  \n",
            "[8]  13.35353  58  \n",
            "[9]  13.06794  52  \n",
            "[10] 11.22387  52  \n",
            "[11]  9.34122  51  \n",
            "[12] 20.21833  49  \n",
            "[13] 13.06794  46  \n",
            "[14] 13.51369  45  \n",
            "[15] 13.06794  45  \n",
            "[16] 13.51369  45  \n",
            "[17] 20.21833  44  \n",
            "[18] 11.62946  42  \n",
            "[19] 13.06794  39  \n",
            "[20] 12.24422  39  \n"
          ],
          "name": "stdout"
        }
      ]
    },
    {
      "cell_type": "markdown",
      "metadata": {
        "id": "VVi9i4QmZnW2"
      },
      "source": [
        "An examination of the rules allows us to see what the consumers are likely to buy if their baskets contained certain items with someone buying yoghurt being likely to buy fat for example . "
      ]
    },
    {
      "cell_type": "code",
      "metadata": {
        "id": "FdmQsnDlMdSg",
        "outputId": "a326ef84-7bbe-4703-a630-8c1257b2dd2a",
        "colab": {
          "base_uri": "https://localhost:8080/"
        }
      },
      "source": [
        "# arulesViz to enable plottings\n",
        "install.packages(\"arulesViz\")\n",
        "require(arulesViz)"
      ],
      "execution_count": 31,
      "outputs": [
        {
          "output_type": "stream",
          "text": [
            "Installing package into ‘/usr/local/lib/R/site-library’\n",
            "(as ‘lib’ is unspecified)\n",
            "\n",
            "also installing the dependencies ‘iterators’, ‘gridExtra’, ‘bitops’, ‘zoo’, ‘foreach’, ‘viridis’, ‘gtools’, ‘caTools’, ‘lmtest’, ‘TSP’, ‘qap’, ‘gclus’, ‘dendextend’, ‘gplots’, ‘registry’, ‘hexbin’, ‘data.table’, ‘scatterplot3d’, ‘vcd’, ‘seriation’, ‘igraph’, ‘plotly’, ‘visNetwork’\n",
            "\n",
            "\n",
            "Loading required package: arulesViz\n",
            "\n",
            "Loading required package: grid\n",
            "\n"
          ],
          "name": "stderr"
        }
      ]
    },
    {
      "cell_type": "code",
      "metadata": {
        "id": "Q0Zk8MgcbG5R"
      },
      "source": [
        "library(arulesViz)\n",
        "library(grid)"
      ],
      "execution_count": 32,
      "outputs": []
    },
    {
      "cell_type": "code",
      "metadata": {
        "id": "hX9DW8dCMZC7",
        "outputId": "07352a2e-2801-41aa-db2d-ae1059bc0214",
        "colab": {
          "base_uri": "https://localhost:8080/",
          "height": 471
        }
      },
      "source": [
        "# plot the association rules\n",
        "plot(association.rules)"
      ],
      "execution_count": 33,
      "outputs": [
        {
          "output_type": "stream",
          "text": [
            "To reduce overplotting, jitter is added! Use jitter = 0 to prevent jitter.\n",
            "\n"
          ],
          "name": "stderr"
        },
        {
          "output_type": "display_data",
          "data": {
            "image/png": "[encoded data removed]",
            "text/plain": [
              "plot without title"
            ]
          },
          "metadata": {
            "tags": [],
            "image/png": {
              "width": 420,
              "height": 420
            }
          }
        }
      ]
    },
    {
      "cell_type": "code",
      "metadata": {
        "id": "6_mOQd8qMkEJ",
        "outputId": "6f7b12c7-b0c4-43c6-e334-8096c0a2621e",
        "colab": {
          "base_uri": "https://localhost:8080/",
          "height": 437
        }
      },
      "source": [
        "# association rule graphs\n",
        "plot(association.rules, method=\"graph\")"
      ],
      "execution_count": 34,
      "outputs": [
        {
          "output_type": "display_data",
          "data": {
            "image/png": "[encoded data removed]",
            "text/plain": [
              "Plot with title “Graph for 21 rules”"
            ]
          },
          "metadata": {
            "tags": [],
            "image/png": {
              "width": 420,
              "height": 420
            }
          }
        }
      ]
    },
    {
      "cell_type": "markdown",
      "metadata": {
        "id": "sp8KAYgjuhJY"
      },
      "source": [
        "We observe from the graph that anyone who bought water rice were likely to buy wheat. "
      ]
    },
    {
      "cell_type": "markdown",
      "metadata": {
        "id": "cqbMgR-D2bQ6"
      },
      "source": [
        "## 5. Conclusions and recommendations."
      ]
    },
    {
      "cell_type": "markdown",
      "metadata": {
        "id": "kYMGRPiB2fU_"
      },
      "source": [
        "The analysis reveals the patterns in underlying groups of data, with a set of 21 interests being identified. "
      ]
    }
  ]
}